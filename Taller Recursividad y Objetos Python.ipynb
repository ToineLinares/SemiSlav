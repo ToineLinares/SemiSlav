{
  "nbformat": 4,
  "nbformat_minor": 0,
  "metadata": {
    "colab": {
      "name": "Taller 4 Completo.ipynb",
      "provenance": [],
      "collapsed_sections": []
    },
    "kernelspec": {
      "name": "python3",
      "display_name": "Python 3"
    }
  },
  "cells": [
    {
      "cell_type": "code",
      "metadata": {
        "id": "_8t2q6ANfHM8"
      },
      "source": [
        "def padovan (n):\n",
        "  if n <= 2:\n",
        "    p = 1\n",
        "    \n",
        "  else:\n",
        "    p = padovan(n-2) + padovan(n-3)\n",
        "  return p"
      ],
      "execution_count": 24,
      "outputs": []
    },
    {
      "cell_type": "code",
      "metadata": {
        "id": "3G4WQIWAip-D",
        "outputId": "60255d78-82d2-4697-9fab-657235f51ebf",
        "colab": {
          "base_uri": "https://localhost:8080/",
          "height": 34
        }
      },
      "source": [
        "def test1():\n",
        "  assert padovan(2) == 1\n",
        "  assert padovan(7) == 5\n",
        "  assert padovan(15) == 49\n",
        "  assert padovan(33) == 7739\n",
        "  assert padovan(48) == 525456\n",
        "  print('Pasó la prueba 1')\n",
        "test1()\n",
        "\n",
        "  "
      ],
      "execution_count": 25,
      "outputs": [
        {
          "output_type": "stream",
          "text": [
            "Pasó la prueba 1\n"
          ],
          "name": "stdout"
        }
      ]
    },
    {
      "cell_type": "code",
      "metadata": {
        "id": "6xvijvSvkVrZ"
      },
      "source": [
        "def mountStairs(n):\n",
        "  if n == 1:\n",
        "    p = 1\n",
        "  elif n == 2:\n",
        "    p = 2\n",
        "  elif n == 3:\n",
        "    p = 4\n",
        "  else:\n",
        "    p = mountStairs(n-1) + mountStairs(n-2) + mountStairs(n-3)\n",
        "\n",
        "  return p\n"
      ],
      "execution_count": 26,
      "outputs": []
    },
    {
      "cell_type": "code",
      "metadata": {
        "id": "s_Mkfzr2n64c",
        "outputId": "069cbaf0-a364-44aa-df6a-a2ff6c64b97c",
        "colab": {
          "base_uri": "https://localhost:8080/",
          "height": 34
        }
      },
      "source": [
        "def test2():\n",
        "  assert mountStairs(2) == 2\n",
        "  assert mountStairs(4) == 7\n",
        "  assert mountStairs(10) == 274\n",
        "  assert mountStairs(18) == 35890\n",
        "  assert mountStairs(25) == 2555757\n",
        "  print('Pasó las pruebas')\n",
        "  \n",
        "test2()"
      ],
      "execution_count": 27,
      "outputs": [
        {
          "output_type": "stream",
          "text": [
            "Pasó las pruebas\n"
          ],
          "name": "stdout"
        }
      ]
    },
    {
      "cell_type": "code",
      "metadata": {
        "id": "6-I0hfx-fLQH"
      },
      "source": [
        "import datetime as dt\n",
        "import numpy as np\n",
        "def dif_dias (date1, date2):\n",
        "    a = dt.date(date1[0],date1[1],date1[2]) - dt.date(date2[0],date2[1],date2[2])\n",
        "    dias = np.abs(a.days)\n",
        "    return dias"
      ],
      "execution_count": 28,
      "outputs": []
    },
    {
      "cell_type": "code",
      "metadata": {
        "id": "ywEekcV7fTBh",
        "outputId": "4f5fc15a-6f95-46ed-84dc-6a58c6d89965",
        "colab": {
          "base_uri": "https://localhost:8080/",
          "height": 34
        }
      },
      "source": [
        "def test3():\n",
        "  assert dif_dias((1982,4,19), (1982,4,22)) == 3\n",
        "  assert dif_dias((4632,11,18), (8077,10,26)) == 1258238\n",
        "  assert dif_dias((1,1,1), (9999,12,31)) == 3652058\n",
        "  assert dif_dias((6051,1,23), (4129,8,9)) == 701798\n",
        "  assert dif_dias((2014,8,27), (2014,1,1)) == 238\n",
        "  assert dif_dias((2014,2,28), (2014,2,28)) == 0\n",
        "  print('Pasó las pruebas')\n",
        "test3()"
      ],
      "execution_count": 29,
      "outputs": [
        {
          "output_type": "stream",
          "text": [
            "Pasó las pruebas\n"
          ],
          "name": "stdout"
        }
      ]
    },
    {
      "cell_type": "code",
      "metadata": {
        "id": "6rELzqh0t5qz"
      },
      "source": [
        "observers = dict()\n",
        "\n",
        "deleted = dict()\n",
        "class Party:\n",
        "\n",
        "  def __init__(self, place):\n",
        "    self.ou = place\n",
        "\n",
        "\n",
        "  def add_friend(self, name):\n",
        "    \n",
        "    observers[name] = self.ou\n",
        "    \n",
        "\n",
        "  def del_friend(self, friend):\n",
        "    deleted[friend] = observers[friend]\n",
        "    observers.pop(friend)\n",
        "\n",
        "  \n",
        "  def send_invites (self, momento):\n",
        "    \n",
        "    for i in observers:\n",
        "      if self.ou in observers[i]:\n",
        "\n",
        "        observers[i] = self.ou + ': ' + momento\n",
        "\n",
        "\n",
        "\n",
        "\n",
        "\n",
        "class Friend:\n",
        "  def __init__(self, nom):\n",
        "    self.nombre = nom\n",
        "\n",
        "  def show_invite(self):\n",
        "    if self in observers:\n",
        "      if ':' in observers[self]:\n",
        "\n",
        "        a = observers[self]\n",
        "      else:\n",
        "        a = 'No party...'\n",
        "    elif self in deleted:\n",
        "      if ':' in deleted[self]:\n",
        "\n",
        "        a = deleted[self]\n",
        "      else:\n",
        "        a = 'No party...'\n",
        "    else:\n",
        "      a = 'No party...'\n",
        "\n",
        "    return a\n"
      ],
      "execution_count": 30,
      "outputs": []
    },
    {
      "cell_type": "code",
      "metadata": {
        "id": "ndEad6gcsaYh",
        "outputId": "58c20aa6-5417-427b-8061-19912a240451",
        "colab": {
          "base_uri": "https://localhost:8080/",
          "height": 34
        }
      },
      "source": [
        "def test4a():\n",
        "  party = Party(\"Midnight Pub\")\n",
        "  nick = Friend(\"Nick\")\n",
        "  john = Friend(\"John\")\n",
        "  lucy = Friend(\"Lucy\")\n",
        "  chuck = Friend(\"Chuck\")\n",
        "\n",
        "  party.add_friend(nick)\n",
        "  party.add_friend(john)\n",
        "  party.add_friend(lucy)\n",
        "  party.send_invites(\"Friday, 9:00 PM\")\n",
        "  party.del_friend(nick)\n",
        "  party.send_invites(\"Saturday, 10:00 AM\")\n",
        "  party.add_friend(chuck)\n",
        "\n",
        "  assert john.show_invite() == \"Midnight Pub: Saturday, 10:00 AM\"\n",
        "  assert lucy.show_invite() == \"Midnight Pub: Saturday, 10:00 AM\"\n",
        "  assert nick.show_invite() == \"Midnight Pub: Friday, 9:00 PM\"\n",
        "  assert chuck.show_invite() == \"No party...\"\n",
        "  print(\"Pasó prueba 1\")\n",
        "\n",
        "test4a()"
      ],
      "execution_count": 20,
      "outputs": [
        {
          "output_type": "stream",
          "text": [
            "Pasó prueba 1\n"
          ],
          "name": "stdout"
        }
      ]
    },
    {
      "cell_type": "code",
      "metadata": {
        "id": "fkgUgTFEsbJo",
        "outputId": "fd36e1df-1432-4871-f66e-90294e9bf678",
        "colab": {
          "base_uri": "https://localhost:8080/",
          "height": 34
        }
      },
      "source": [
        "def test4b():\n",
        "  party = Party(\"Karl`s home\")\n",
        "  jack = Friend('Jack McConnel')\n",
        "  bob = Friend('Bob Monteu')\n",
        "  mary = Friend('Mary Forest')\n",
        "  party.add_friend(jack)\n",
        "  party.add_friend(bob)\n",
        "  party.send_invites('Sunday, 11:30 AM')\n",
        "  party.add_friend(mary)\n",
        "\n",
        "  assert bob.show_invite() == \"Karl`s home: Sunday, 11:30 AM\"\n",
        "  assert mary.show_invite() == \"No party...\"\n",
        "  print(\"Pasó prueba 2\")\n",
        "\n",
        "test4b()"
      ],
      "execution_count": 21,
      "outputs": [
        {
          "output_type": "stream",
          "text": [
            "Pasó prueba 2\n"
          ],
          "name": "stdout"
        }
      ]
    },
    {
      "cell_type": "code",
      "metadata": {
        "id": "s0t-4E3Qsbdo",
        "outputId": "ddb311d2-e177-4d4f-bade-0125c063232f",
        "colab": {
          "base_uri": "https://localhost:8080/",
          "height": 34
        }
      },
      "source": [
        "def test4c():\n",
        "  party = Party(\"Miranda`s home\")\n",
        "  patrick = Friend('Patrick')\n",
        "  amanda = Friend('Amanda')\n",
        "  grace = Friend('Grace')\n",
        "  party.add_friend(patrick)\n",
        "  party.add_friend(amanda)\n",
        "  party.add_friend(grace)\n",
        "  party.send_invites('Friday, 19:00')\n",
        "\n",
        "  assert grace.show_invite() == \"Miranda`s home: Friday, 19:00\"\n",
        "  print(\"Pasó prueba 3\")\n",
        "\n",
        "test4c()"
      ],
      "execution_count": 22,
      "outputs": [
        {
          "output_type": "stream",
          "text": [
            "Pasó prueba 3\n"
          ],
          "name": "stdout"
        }
      ]
    },
    {
      "cell_type": "code",
      "metadata": {
        "id": "GFGgWJzrsbst",
        "outputId": "91c6e800-263e-4f6e-a23b-535a28f13970",
        "colab": {
          "base_uri": "https://localhost:8080/",
          "height": 34
        }
      },
      "source": [
        "def test4d(): \n",
        "  party_1 = Party(\"Celentano\")\n",
        "  party_2 = Party(\"Itaka\")\n",
        "  party_3 = Party(\"Disneyland\")\n",
        "  john = Friend('John')\n",
        "  rose = Friend('Rose')\n",
        "  gabe = Friend('Gabe')\n",
        "  party_1.add_friend(john)\n",
        "  party_2.add_friend(rose)\n",
        "  party_3.add_friend(gabe)\n",
        "  party_1.send_invites('Friday, 18:45')\n",
        "  party_2.send_invites('Saturday, 12:30')\n",
        "  party_3.send_invites('Sunday, 10:00')\n",
        "\n",
        "  assert gabe.show_invite() == \"Disneyland: Sunday, 10:00\"\n",
        "  assert rose.show_invite() == \"Itaka: Saturday, 12:30\"\n",
        "  print(\"Pasó prueba 4\")\n",
        "\n",
        "test4d()"
      ],
      "execution_count": 23,
      "outputs": [
        {
          "output_type": "stream",
          "text": [
            "Pasó prueba 4\n"
          ],
          "name": "stdout"
        }
      ]
    }
  ]
}